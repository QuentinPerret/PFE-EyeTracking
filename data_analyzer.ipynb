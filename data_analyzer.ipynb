{
 "cells": [
  {
   "cell_type": "code",
   "execution_count": null,
   "metadata": {},
   "outputs": [],
   "source": [
    "import os\n",
    "import shutil\n",
    "\n",
    "# Source and destination paths\n",
    "rec_folder = '/Users/Quentin/recordings/2023_11_10/'\n",
    "destination_root = 'pupil_data'\n",
    "# Get a list of all folders in the source directory\n",
    "folders_to_copy = [folder for folder in os.listdir(rec_folder) if os.path.isdir(os.path.join(rec_folder, folder)) and int(folder)>18]\n",
    "print(folders_to_copy)\n",
    "# # Copy each folder to the destination directory with a new name to avoid conflicts\n",
    "for folder in folders_to_copy:\n",
    "    source_folder_path = os.path.join(rec_folder, folder)\n",
    "    source_folder_path += '/exports/000'\n",
    "    \n",
    "    # Generate a new folder name (you can modify this logic if needed)\n",
    "\n",
    "    \n",
    "    destination_folder_path = os.path.join(destination_root, folder)\n",
    "    \n",
    "    # Copy the entire folder to the new destination\n",
    "    shutil.copytree(source_folder_path, destination_folder_path)\n",
    "\n",
    "print(\"Folders copied successfully.\")\n"
   ]
  },
  {
   "cell_type": "markdown",
   "metadata": {},
   "source": [
    "Pupil core data"
   ]
  },
  {
   "cell_type": "code",
   "execution_count": null,
   "metadata": {},
   "outputs": [],
   "source": [
    "import pandas as pd\n",
    "import matplotlib.pyplot as plt\n",
    "data_folder = 'pupil_data'\n",
    "folders_to_go = [folder for folder in os.listdir(data_folder)]\n",
    "for folder in folders_to_go:\n",
    "    csv_path = 'pupil_data/' + folder + '/gaze_positions.csv'\n",
    "    df = pd.read_csv(csv_path,sep=(','))\n",
    "\n",
    "    x = df.norm_pos_x\n",
    "    y = df.norm_pos_y\n",
    "        \n",
    "    plt.plot(x,y)\n",
    "\n",
    "plt.xlabel('X values')\n",
    "plt.ylabel('Y values')\n",
    "plt.title('Plot of X and Y values')\n",
    "plt.show()"
   ]
  }
 ],
 "metadata": {
  "kernelspec": {
   "display_name": "Python 3",
   "language": "python",
   "name": "python3"
  },
  "language_info": {
   "codemirror_mode": {
    "name": "ipython",
    "version": 3
   },
   "file_extension": ".py",
   "mimetype": "text/x-python",
   "name": "python",
   "nbconvert_exporter": "python",
   "pygments_lexer": "ipython3",
   "version": "3.8.10"
  }
 },
 "nbformat": 4,
 "nbformat_minor": 2
}
