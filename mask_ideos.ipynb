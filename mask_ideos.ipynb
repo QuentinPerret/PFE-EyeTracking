{
 "cells": [
  {
   "cell_type": "code",
   "execution_count": 57,
   "metadata": {},
   "outputs": [],
   "source": [
    "import cv2\n",
    "import matplotlib.pyplot as plt\n",
    "import numpy as np "
   ]
  },
  {
   "cell_type": "code",
   "execution_count": 1,
   "metadata": {},
   "outputs": [],
   "source": [
    "root = 'video/Videos - mask/'\n",
    "import os\n",
    "path_mask_videos = []\n",
    "\n",
    "for path, subdirs, files in os.walk(root):\n",
    "    for name in files:\n",
    "        path_mask_videos.append(os.path.join(path, name))"
   ]
  },
  {
   "cell_type": "code",
   "execution_count": 70,
   "metadata": {},
   "outputs": [],
   "source": [
    "def gravityCenter(frame):\n",
    "    # print(frame.shape)\n",
    "    shape = frame.shape\n",
    "    w , h  , _ = shape\n",
    "    xg , yg = 0,0\n",
    "    k=0\n",
    "    for i in range(w-1):\n",
    "        for j in range(h-1):\n",
    "            p = frame[i,j]\n",
    "            if p.mean() == 1:\n",
    "                k += 1\n",
    "                xg += i\n",
    "                yg += j\n",
    "    print(k)\n",
    "    xg /= k\n",
    "    yg /= k\n",
    "    print(xg,yg)\n",
    "    plt.imshow(frame)\n",
    "    plt.scatter(int(xg),int(yg))\n",
    "\n",
    "    # return x , y\n"
   ]
  },
  {
   "cell_type": "code",
   "execution_count": 71,
   "metadata": {},
   "outputs": [
    {
     "name": "stdout",
     "output_type": "stream",
     "text": [
      "1080 1920\n",
      "227853\n",
      "536.7828029475144 976.6923147818989\n"
     ]
    },
    {
     "ename": "TypeError",
     "evalue": "cannot unpack non-iterable NoneType object",
     "output_type": "error",
     "traceback": [
      "\u001b[0;31m---------------------------------------------------------------------------\u001b[0m",
      "\u001b[0;31mTypeError\u001b[0m                                 Traceback (most recent call last)",
      "Cell \u001b[0;32mIn[71], line 8\u001b[0m\n\u001b[1;32m      6\u001b[0m \tcurrentframe \u001b[38;5;241m+\u001b[39m\u001b[38;5;241m=\u001b[39m \u001b[38;5;241m1\u001b[39m\n\u001b[1;32m      7\u001b[0m \tframe  \u001b[38;5;241m=\u001b[39m np\u001b[38;5;241m.\u001b[39marray(frame)\n\u001b[0;32m----> 8\u001b[0m \tx,y \u001b[38;5;241m=\u001b[39m gravityCenter(frame)\n\u001b[1;32m     10\u001b[0m \u001b[38;5;28;01melse\u001b[39;00m: \n\u001b[1;32m     11\u001b[0m \t\u001b[38;5;28;01mbreak\u001b[39;00m\n",
      "\u001b[0;31mTypeError\u001b[0m: cannot unpack non-iterable NoneType object"
     ]
    },
    {
     "data": {
      "image/png": "[encoded data removed]",
      "text/plain": [
       "<Figure size 640x480 with 1 Axes>"
      ]
     },
     "metadata": {},
     "output_type": "display_data"
    }
   ],
   "source": [
    "\n",
    "video = cv2.VideoCapture(path_mask_videos[0])\n",
    "currentframe = 0\n",
    "while(True): \n",
    "\tret,frame = video.read() \n",
    "\tif ret: \n",
    "\t\tcurrentframe += 1\n",
    "\t\tframe  = np.array(frame)\n",
    "\t\tx,y = gravityCenter(frame)\n",
    "\t\t\n",
    "\telse: \n",
    "\t\tbreak\n"
   ]
  }
 ],
 "metadata": {
  "kernelspec": {
   "display_name": "pfe-eyetracking-Q3J8W4WC-py3.11",
   "language": "python",
   "name": "python3"
  },
  "language_info": {
   "codemirror_mode": {
    "name": "ipython",
    "version": 3
   },
   "file_extension": ".py",
   "mimetype": "text/x-python",
   "name": "python",
   "nbconvert_exporter": "python",
   "pygments_lexer": "ipython3",
   "version": "3.11.5"
  }
 },
 "nbformat": 4,
 "nbformat_minor": 2
}
